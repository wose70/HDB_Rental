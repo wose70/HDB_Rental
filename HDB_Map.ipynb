{
  "nbformat": 4,
  "nbformat_minor": 0,
  "metadata": {
    "colab": {
      "provenance": [],
      "authorship_tag": "ABX9TyP0Tn81L6QJ8GHOTd1l3RuC",
      "include_colab_link": true
    },
    "kernelspec": {
      "name": "python3",
      "display_name": "Python 3"
    },
    "language_info": {
      "name": "python"
    }
  },
  "cells": [
    {
      "cell_type": "markdown",
      "metadata": {
        "id": "view-in-github",
        "colab_type": "text"
      },
      "source": [
        "<a href=\"https://colab.research.google.com/github/wose70/HDB_Rental/blob/main/HDB_Map.ipynb\" target=\"_parent\"><img src=\"https://colab.research.google.com/assets/colab-badge.svg\" alt=\"Open In Colab\"/></a>"
      ]
    },
    {
      "cell_type": "code",
      "execution_count": 2,
      "metadata": {
        "colab": {
          "base_uri": "https://localhost:8080/"
        },
        "id": "B3etJcAqEvRt",
        "outputId": "55be71dd-58d6-4619-be68-5074064cde0f"
      },
      "outputs": [
        {
          "output_type": "stream",
          "name": "stdout",
          "text": [
            "Map has been saved as 'rental_price_clusters_map.html'\n"
          ]
        }
      ],
      "source": [
        "# Import necessary libraries\n",
        "import pandas as pd\n",
        "import numpy as np\n",
        "import folium\n",
        "from sklearn.cluster import KMeans\n",
        "from sklearn.preprocessing import StandardScaler\n",
        "from folium.plugins import MarkerCluster\n",
        "\n",
        "# Load the datasets\n",
        "rent_data = pd.read_csv(\"RentingOutofFlats2025.csv\")\n",
        "coordinates_data = pd.read_csv(\"street_coordinates.csv\")\n",
        "\n",
        "# Merge the datasets on a common key (e.g., street name or equivalent column)\n",
        "data = pd.merge(rent_data, coordinates_data, how=\"left\", on=\"street_name\")\n",
        "\n",
        "# Data cleaning (e.g., handling missing values)\n",
        "data.dropna(subset=[\"longitude\", \"latitude\", \"monthly_rent\"], inplace=True)\n",
        "\n",
        "# Scale the rental prices for clustering\n",
        "scaler = StandardScaler()\n",
        "data[\"scaled_rent\"] = scaler.fit_transform(data[[\"monthly_rent\"]])\n",
        "\n",
        "# Apply K-Means clustering\n",
        "n_clusters = 5  # You can adjust the number of clusters\n",
        "kmeans = KMeans(n_clusters=n_clusters, random_state=42)\n",
        "data[\"cluster\"] = kmeans.fit_predict(data[[\"scaled_rent\", \"longitude\", \"latitude\"]])\n",
        "\n",
        "# Create a Folium map\n",
        "map_center = [data[\"latitude\"].mean(), data[\"longitude\"].mean()]  # Center of the map\n",
        "rental_map = folium.Map(location=map_center, zoom_start=12)\n",
        "\n",
        "# Add clusters to the map\n",
        "marker_cluster = MarkerCluster().add_to(rental_map)\n",
        "\n",
        "# Add markers for each rental point\n",
        "for idx, row in data.iterrows():\n",
        "    folium.Marker(\n",
        "        location=[row[\"latitude\"], row[\"longitude\"]],\n",
        "        popup=f\"Monthly Rent: ${row['monthly_rent']}, Cluster: {row['cluster']}\",\n",
        "        icon=folium.Icon(color=\"blue\" if row[\"cluster\"] == 0 else \"green\")\n",
        "    ).add_to(marker_cluster)\n",
        "\n",
        "# Save the map to an HTML file\n",
        "rental_map.save(\"rental_price_clusters_map.html\")\n",
        "\n",
        "print(\"Map has been saved as 'rental_price_clusters_map.html'\")"
      ]
    }
  ]
}